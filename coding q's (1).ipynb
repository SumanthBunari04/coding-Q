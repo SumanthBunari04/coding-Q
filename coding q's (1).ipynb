{
 "cells": [
  {
   "cell_type": "markdown",
   "id": "1bf3ba62-d05e-4129-8618-e994b5eb6469",
   "metadata": {},
   "source": [
    "## 1. Write a Python program to check if a string is a palindrome."
   ]
  },
  {
   "cell_type": "code",
   "execution_count": 1,
   "id": "f7ad5c49-c7c1-4dcd-9d63-85ed7456dbcd",
   "metadata": {},
   "outputs": [
    {
     "name": "stdin",
     "output_type": "stream",
     "text": [
      "Enter the string to check if it is a palindrome:  bab\n"
     ]
    },
    {
     "name": "stdout",
     "output_type": "stream",
     "text": [
      "The string is a palindrome.\n"
     ]
    }
   ],
   "source": [
    "str = input(\"Enter the string to check if it is a palindrome: \")\n",
    "\n",
    "str = str.casefold()\n",
    "\n",
    "rev_str = reversed(str)\n",
    "\n",
    "if list(str) == list(rev_str):\n",
    "    print (\"The string is a palindrome.\")\n",
    "\n",
    "else:\n",
    "    print (\"The string is not a palindrome.\")"
   ]
  },
  {
   "cell_type": "markdown",
   "id": "07a6e3e0-7391-4975-bbee-a58caac7ae2a",
   "metadata": {},
   "source": [
    "## 2. Write a Python program to find the largest element in a list."
   ]
  },
  {
   "cell_type": "code",
   "execution_count": 14,
   "id": "40dea5ca-21cb-4beb-9bc6-208e85110af8",
   "metadata": {},
   "outputs": [
    {
     "name": "stdout",
     "output_type": "stream",
     "text": [
      "The largest element in the list is: 928\n"
     ]
    }
   ],
   "source": [
    "numbers = [100, 214, 445, 928, 27, 364, 67]\n",
    "\n",
    "element = numbers[0]\n",
    "\n",
    "for number in numbers:\n",
    "    if number > element:\n",
    "        element = number\n",
    "\n",
    "print(\"The largest element in the list is:\", element)"
   ]
  },
  {
   "cell_type": "markdown",
   "id": "464ac3ac-d56e-4648-8add-321d5e9c6e4f",
   "metadata": {},
   "source": [
    "## 3. Write a Python program to reverse a string."
   ]
  },
  {
   "cell_type": "code",
   "execution_count": 16,
   "id": "f9997415-1377-452e-8a3a-f77f5670dc26",
   "metadata": {},
   "outputs": [
    {
     "name": "stdout",
     "output_type": "stream",
     "text": [
      "Original String: htnamuS iaS iranuB\n",
      "Reversed String: Bunari Sai Sumanth\n"
     ]
    }
   ],
   "source": [
    "string = \"htnamuS iaS iranuB\"\n",
    "\n",
    "reversed_string = string[::-1]\n",
    "\n",
    "print(\"Original String:\", string)\n",
    "print(\"Reversed String:\", reversed_string)"
   ]
  },
  {
   "cell_type": "markdown",
   "id": "b5cfe4c1-57d6-46d9-a134-36fa1acd3939",
   "metadata": {},
   "source": [
    "## 4. Write a Python program to remove duplicates from a list."
   ]
  },
  {
   "cell_type": "code",
   "execution_count": 17,
   "id": "7effef8e-7ca6-45fb-b040-1f276b7f520d",
   "metadata": {},
   "outputs": [
    {
     "name": "stdout",
     "output_type": "stream",
     "text": [
      "['b', 'cat', 'apple', 'banana']\n"
     ]
    }
   ],
   "source": [
    "lis = ['banana','b','cat','apple', \"banana\"]\n",
    "lis.remove(\"banana\")\n",
    "print(lis);"
   ]
  },
  {
   "cell_type": "code",
   "execution_count": null,
   "id": "88bafc42-7c5b-4aad-a7df-c203e0cd5ae9",
   "metadata": {},
   "outputs": [],
   "source": []
  }
 ],
 "metadata": {
  "kernelspec": {
   "display_name": "Python 3 (ipykernel)",
   "language": "python",
   "name": "python3"
  },
  "language_info": {
   "codemirror_mode": {
    "name": "ipython",
    "version": 3
   },
   "file_extension": ".py",
   "mimetype": "text/x-python",
   "name": "python",
   "nbconvert_exporter": "python",
   "pygments_lexer": "ipython3",
   "version": "3.11.7"
  }
 },
 "nbformat": 4,
 "nbformat_minor": 5
}
